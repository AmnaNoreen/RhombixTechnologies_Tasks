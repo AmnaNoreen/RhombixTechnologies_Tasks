{
  "nbformat": 4,
  "nbformat_minor": 0,
  "metadata": {
    "colab": {
      "provenance": [],
      "collapsed_sections": [
        "j9Jz646VkLOr",
        "wxsLCLJRj48x",
        "Yt69cjN-kwGa",
        "alt4iBtVk_VC",
        "42CAzMXInHPg",
        "FOs-QHtYnQR-",
        "lThHbKwmnWOa",
        "eQxFhgG_nbs1",
        "ZOfryaS_niOe",
        "KzK_FM3JnpPO",
        "GSn84hSLnrkp",
        "8wgC-4xUqXuC",
        "jN9g51InqS18",
        "Onw3Aa6iqAKl",
        "z5VUZ9e7qHCT"
      ]
    },
    "kernelspec": {
      "name": "python3",
      "display_name": "Python 3"
    },
    "language_info": {
      "name": "python"
    }
  },
  "cells": [
    {
      "cell_type": "markdown",
      "source": [
        "# **Import Libraries**"
      ],
      "metadata": {
        "id": "j9Jz646VkLOr"
      }
    },
    {
      "cell_type": "code",
      "source": [
        "import pandas as pd\n",
        "from sklearn.model_selection import train_test_split\n",
        "from sklearn.ensemble import RandomForestClassifier\n",
        "from sklearn.metrics import classification_report"
      ],
      "metadata": {
        "id": "iHXiyVfkkPI3"
      },
      "execution_count": 1,
      "outputs": []
    },
    {
      "cell_type": "markdown",
      "source": [
        "# **Load the Dataset**"
      ],
      "metadata": {
        "id": "wxsLCLJRj48x"
      }
    },
    {
      "cell_type": "code",
      "execution_count": 2,
      "metadata": {
        "id": "xP80dWpUhpJ6"
      },
      "outputs": [],
      "source": [
        "df = pd.read_csv('/content/Last.fm_data.csv')"
      ]
    },
    {
      "cell_type": "markdown",
      "source": [
        "### Drop the unnamed column (index)"
      ],
      "metadata": {
        "id": "PFigX6HclpTv"
      }
    },
    {
      "cell_type": "code",
      "source": [
        "df = df.drop(columns=['Unnamed: 0'])"
      ],
      "metadata": {
        "id": "LWHau_XJlvaV"
      },
      "execution_count": 6,
      "outputs": []
    },
    {
      "cell_type": "markdown",
      "source": [
        "### Check basic structure"
      ],
      "metadata": {
        "id": "bzPAqV5Bkdb4"
      }
    },
    {
      "cell_type": "code",
      "source": [
        "print(df.head())"
      ],
      "metadata": {
        "colab": {
          "base_uri": "https://localhost:8080/"
        },
        "id": "GDMUYz45klx9",
        "outputId": "eb996ca7-87d7-41b5-82ec-2af5b39832f9"
      },
      "execution_count": 7,
      "outputs": [
        {
          "output_type": "stream",
          "name": "stdout",
          "text": [
            "  Username           Artist                          Track  \\\n",
            "0  Babs_05  Isobel Campbell     The Circus Is Leaving Town   \n",
            "1  Babs_05  Isobel Campbell                   Dusty Wreath   \n",
            "2  Babs_05  Isobel Campbell     Honey Child What Can I Do?   \n",
            "3  Babs_05  Isobel Campbell  It's Hard To Kill A Bad Thing   \n",
            "4  Babs_05  Isobel Campbell                Saturday's Gone   \n",
            "\n",
            "                       Album         Date    Time  \n",
            "0  Ballad of the Broken Seas  31 Jan 2021   23:36  \n",
            "1  Ballad of the Broken Seas  31 Jan 2021   23:32  \n",
            "2  Ballad of the Broken Seas  31 Jan 2021   23:28  \n",
            "3  Ballad of the Broken Seas  31 Jan 2021   23:25  \n",
            "4  Ballad of the Broken Seas  31 Jan 2021   23:21  \n"
          ]
        }
      ]
    },
    {
      "cell_type": "markdown",
      "source": [
        "# **Process the Timestamp**"
      ],
      "metadata": {
        "id": "Yt69cjN-kwGa"
      }
    },
    {
      "cell_type": "markdown",
      "source": [
        "### Combine Date and Time into one datetime column"
      ],
      "metadata": {
        "id": "pqx2VZerk-Ym"
      }
    },
    {
      "cell_type": "code",
      "source": [
        "df['timestamp'] = pd.to_datetime(df['Date'] + ' ' + df['Time'], format='%d %b %Y %H:%M')"
      ],
      "metadata": {
        "id": "IPRscwDjk7Ew"
      },
      "execution_count": 8,
      "outputs": []
    },
    {
      "cell_type": "markdown",
      "source": [
        "### Now drop the old Date and Time columns"
      ],
      "metadata": {
        "id": "p4ZEXMBxmGT7"
      }
    },
    {
      "cell_type": "code",
      "source": [
        "df = df.drop(columns=['Date', 'Time'])"
      ],
      "metadata": {
        "id": "0zNxsaEKmIkY"
      },
      "execution_count": 9,
      "outputs": []
    },
    {
      "cell_type": "code",
      "source": [
        "print(df.head())"
      ],
      "metadata": {
        "colab": {
          "base_uri": "https://localhost:8080/"
        },
        "id": "nRH3-SFumLqY",
        "outputId": "540d1ef6-6136-411a-efa6-a01dbb983c1c"
      },
      "execution_count": 10,
      "outputs": [
        {
          "output_type": "stream",
          "name": "stdout",
          "text": [
            "  Username           Artist                          Track  \\\n",
            "0  Babs_05  Isobel Campbell     The Circus Is Leaving Town   \n",
            "1  Babs_05  Isobel Campbell                   Dusty Wreath   \n",
            "2  Babs_05  Isobel Campbell     Honey Child What Can I Do?   \n",
            "3  Babs_05  Isobel Campbell  It's Hard To Kill A Bad Thing   \n",
            "4  Babs_05  Isobel Campbell                Saturday's Gone   \n",
            "\n",
            "                       Album           timestamp  \n",
            "0  Ballad of the Broken Seas 2021-01-31 23:36:00  \n",
            "1  Ballad of the Broken Seas 2021-01-31 23:32:00  \n",
            "2  Ballad of the Broken Seas 2021-01-31 23:28:00  \n",
            "3  Ballad of the Broken Seas 2021-01-31 23:25:00  \n",
            "4  Ballad of the Broken Seas 2021-01-31 23:21:00  \n"
          ]
        }
      ]
    },
    {
      "cell_type": "markdown",
      "source": [
        "# **Create the \"Repeated Listen\" Label**"
      ],
      "metadata": {
        "id": "alt4iBtVk_VC"
      }
    },
    {
      "cell_type": "code",
      "source": [
        "df = df.sort_values(by=['Username', 'Track', 'timestamp'])"
      ],
      "metadata": {
        "id": "x7zGpl-klCjv"
      },
      "execution_count": 11,
      "outputs": []
    },
    {
      "cell_type": "markdown",
      "source": [
        "### Create a previous timestamp for the same Username+Track"
      ],
      "metadata": {
        "id": "BVsC8leqmjik"
      }
    },
    {
      "cell_type": "code",
      "source": [
        "df['prev_timestamp'] = df.groupby(['Username', 'Track'])['timestamp'].shift(1)"
      ],
      "metadata": {
        "id": "Mh2r9TZDmiiU"
      },
      "execution_count": 13,
      "outputs": []
    },
    {
      "cell_type": "markdown",
      "source": [
        "### Calculate the time difference in days\n"
      ],
      "metadata": {
        "id": "XOYdyw8Umt07"
      }
    },
    {
      "cell_type": "code",
      "source": [
        "df['days_diff'] = (df['timestamp'] - df['prev_timestamp']).dt.days"
      ],
      "metadata": {
        "id": "8ksBqBr6msTh"
      },
      "execution_count": 14,
      "outputs": []
    },
    {
      "cell_type": "markdown",
      "source": [
        "### Create the repeated listen label"
      ],
      "metadata": {
        "id": "roCKn9FdmzBh"
      }
    },
    {
      "cell_type": "code",
      "source": [
        "df['repeated_within_month'] = df['days_diff'].apply(lambda x: 1 if pd.notna(x) and x <= 30 else 0)"
      ],
      "metadata": {
        "id": "HZgeIW8Km0__"
      },
      "execution_count": 15,
      "outputs": []
    },
    {
      "cell_type": "markdown",
      "source": [
        "### Fill NaNs (first listens) with 0"
      ],
      "metadata": {
        "id": "Ot9VIFU3m25u"
      }
    },
    {
      "cell_type": "code",
      "source": [
        "df['repeated_within_month'] = df['repeated_within_month'].fillna(0).astype(int)"
      ],
      "metadata": {
        "id": "6o2MaXbKm7WU"
      },
      "execution_count": 16,
      "outputs": []
    },
    {
      "cell_type": "markdown",
      "source": [
        "### View the new dataset"
      ],
      "metadata": {
        "id": "M1hxJBufm8-d"
      }
    },
    {
      "cell_type": "code",
      "source": [
        "print(df[['Username', 'Track', 'timestamp', 'repeated_within_month']].head(10))"
      ],
      "metadata": {
        "colab": {
          "base_uri": "https://localhost:8080/"
        },
        "id": "SJ38xDbinAbQ",
        "outputId": "d4d734e3-c2cc-466b-b1c6-be4a164c4484"
      },
      "execution_count": 17,
      "outputs": [
        {
          "output_type": "stream",
          "name": "stdout",
          "text": [
            "      Username                                              Track  \\\n",
            "18447  Babs_05                                   !Ed Buys Houses!   \n",
            "9504   Babs_05                                  !holyshitohmygod!   \n",
            "25542  Babs_05  \"Eye\" No, Alphabet St., Glam Slam, Anna Stesia...   \n",
            "6419   Babs_05                                           \"Heroes\"   \n",
            "9509   Babs_05  \"I Want You To Rip My Heart Out\" - Extended Ve...   \n",
            "23554  Babs_05                                            \"I\" Luz   \n",
            "18314  Babs_05  \"Macapaba: Equinócio Solar, Viagens Fantástica...   \n",
            "22856  Babs_05                                       \"Omar comin\"   \n",
            "22185  Babs_05                   \"The Take Over, the Breaks Over\"   \n",
            "25649  Babs_05  \"Yeah, I Don't Know What It's Like To Be Aroun...   \n",
            "\n",
            "                timestamp  repeated_within_month  \n",
            "18447 2021-01-28 17:13:00                      0  \n",
            "9504  2021-01-31 18:54:00                      0  \n",
            "25542 2021-01-29 22:08:00                      0  \n",
            "6419  2021-01-31 11:44:00                      0  \n",
            "9509  2021-01-31 18:35:00                      0  \n",
            "23554 2021-01-30 18:45:00                      0  \n",
            "18314 2021-01-25 18:44:00                      0  \n",
            "22856 2021-01-28 06:57:00                      0  \n",
            "22185 2021-01-31 19:23:00                      0  \n",
            "25649 2021-01-31 04:45:00                      0  \n"
          ]
        }
      ]
    },
    {
      "cell_type": "markdown",
      "source": [
        "# **Feature Engineering**"
      ],
      "metadata": {
        "id": "42CAzMXInHPg"
      }
    },
    {
      "cell_type": "markdown",
      "source": [
        "### Create features from timestamp"
      ],
      "metadata": {
        "id": "_KnM4TVCnGx3"
      }
    },
    {
      "cell_type": "code",
      "source": [
        "df['hour'] = df['timestamp'].dt.hour\n",
        "df['day_of_week'] = df['timestamp'].dt.dayofweek\n",
        "df['day'] = df['timestamp'].dt.day"
      ],
      "metadata": {
        "id": "c38FtQu1nGem"
      },
      "execution_count": 18,
      "outputs": []
    },
    {
      "cell_type": "markdown",
      "source": [
        "# **Build and Train the Machine Learning Model**"
      ],
      "metadata": {
        "id": "FOs-QHtYnQR-"
      }
    },
    {
      "cell_type": "markdown",
      "source": [
        "### Define features and target"
      ],
      "metadata": {
        "id": "lThHbKwmnWOa"
      }
    },
    {
      "cell_type": "code",
      "source": [
        "features = ['hour', 'day_of_week', 'day']\n",
        "target = 'repeated_within_month'\n",
        "\n",
        "X = df[features]\n",
        "y = df[target]"
      ],
      "metadata": {
        "id": "KlRoU-3inNuM"
      },
      "execution_count": 19,
      "outputs": []
    },
    {
      "cell_type": "markdown",
      "source": [
        "### Split into train and test sets"
      ],
      "metadata": {
        "id": "eQxFhgG_nbs1"
      }
    },
    {
      "cell_type": "code",
      "source": [
        "X_train, X_test, y_train, y_test = train_test_split(X, y, test_size=0.2, random_state=42)"
      ],
      "metadata": {
        "id": "KdnxUTFZnZbD"
      },
      "execution_count": 20,
      "outputs": []
    },
    {
      "cell_type": "markdown",
      "source": [
        "### Initialize random forest"
      ],
      "metadata": {
        "id": "ZOfryaS_niOe"
      }
    },
    {
      "cell_type": "code",
      "source": [
        "model = RandomForestClassifier()\n",
        "model.fit(X_train, y_train)"
      ],
      "metadata": {
        "colab": {
          "base_uri": "https://localhost:8080/",
          "height": 80
        },
        "id": "0xDdw4FPnz1s",
        "outputId": "4e45cf6e-9e08-4c69-a8ab-6fdec9e7e55e"
      },
      "execution_count": 21,
      "outputs": [
        {
          "output_type": "execute_result",
          "data": {
            "text/plain": [
              "RandomForestClassifier()"
            ],
            "text/html": [
              "<style>#sk-container-id-1 {\n",
              "  /* Definition of color scheme common for light and dark mode */\n",
              "  --sklearn-color-text: #000;\n",
              "  --sklearn-color-text-muted: #666;\n",
              "  --sklearn-color-line: gray;\n",
              "  /* Definition of color scheme for unfitted estimators */\n",
              "  --sklearn-color-unfitted-level-0: #fff5e6;\n",
              "  --sklearn-color-unfitted-level-1: #f6e4d2;\n",
              "  --sklearn-color-unfitted-level-2: #ffe0b3;\n",
              "  --sklearn-color-unfitted-level-3: chocolate;\n",
              "  /* Definition of color scheme for fitted estimators */\n",
              "  --sklearn-color-fitted-level-0: #f0f8ff;\n",
              "  --sklearn-color-fitted-level-1: #d4ebff;\n",
              "  --sklearn-color-fitted-level-2: #b3dbfd;\n",
              "  --sklearn-color-fitted-level-3: cornflowerblue;\n",
              "\n",
              "  /* Specific color for light theme */\n",
              "  --sklearn-color-text-on-default-background: var(--sg-text-color, var(--theme-code-foreground, var(--jp-content-font-color1, black)));\n",
              "  --sklearn-color-background: var(--sg-background-color, var(--theme-background, var(--jp-layout-color0, white)));\n",
              "  --sklearn-color-border-box: var(--sg-text-color, var(--theme-code-foreground, var(--jp-content-font-color1, black)));\n",
              "  --sklearn-color-icon: #696969;\n",
              "\n",
              "  @media (prefers-color-scheme: dark) {\n",
              "    /* Redefinition of color scheme for dark theme */\n",
              "    --sklearn-color-text-on-default-background: var(--sg-text-color, var(--theme-code-foreground, var(--jp-content-font-color1, white)));\n",
              "    --sklearn-color-background: var(--sg-background-color, var(--theme-background, var(--jp-layout-color0, #111)));\n",
              "    --sklearn-color-border-box: var(--sg-text-color, var(--theme-code-foreground, var(--jp-content-font-color1, white)));\n",
              "    --sklearn-color-icon: #878787;\n",
              "  }\n",
              "}\n",
              "\n",
              "#sk-container-id-1 {\n",
              "  color: var(--sklearn-color-text);\n",
              "}\n",
              "\n",
              "#sk-container-id-1 pre {\n",
              "  padding: 0;\n",
              "}\n",
              "\n",
              "#sk-container-id-1 input.sk-hidden--visually {\n",
              "  border: 0;\n",
              "  clip: rect(1px 1px 1px 1px);\n",
              "  clip: rect(1px, 1px, 1px, 1px);\n",
              "  height: 1px;\n",
              "  margin: -1px;\n",
              "  overflow: hidden;\n",
              "  padding: 0;\n",
              "  position: absolute;\n",
              "  width: 1px;\n",
              "}\n",
              "\n",
              "#sk-container-id-1 div.sk-dashed-wrapped {\n",
              "  border: 1px dashed var(--sklearn-color-line);\n",
              "  margin: 0 0.4em 0.5em 0.4em;\n",
              "  box-sizing: border-box;\n",
              "  padding-bottom: 0.4em;\n",
              "  background-color: var(--sklearn-color-background);\n",
              "}\n",
              "\n",
              "#sk-container-id-1 div.sk-container {\n",
              "  /* jupyter's `normalize.less` sets `[hidden] { display: none; }`\n",
              "     but bootstrap.min.css set `[hidden] { display: none !important; }`\n",
              "     so we also need the `!important` here to be able to override the\n",
              "     default hidden behavior on the sphinx rendered scikit-learn.org.\n",
              "     See: https://github.com/scikit-learn/scikit-learn/issues/21755 */\n",
              "  display: inline-block !important;\n",
              "  position: relative;\n",
              "}\n",
              "\n",
              "#sk-container-id-1 div.sk-text-repr-fallback {\n",
              "  display: none;\n",
              "}\n",
              "\n",
              "div.sk-parallel-item,\n",
              "div.sk-serial,\n",
              "div.sk-item {\n",
              "  /* draw centered vertical line to link estimators */\n",
              "  background-image: linear-gradient(var(--sklearn-color-text-on-default-background), var(--sklearn-color-text-on-default-background));\n",
              "  background-size: 2px 100%;\n",
              "  background-repeat: no-repeat;\n",
              "  background-position: center center;\n",
              "}\n",
              "\n",
              "/* Parallel-specific style estimator block */\n",
              "\n",
              "#sk-container-id-1 div.sk-parallel-item::after {\n",
              "  content: \"\";\n",
              "  width: 100%;\n",
              "  border-bottom: 2px solid var(--sklearn-color-text-on-default-background);\n",
              "  flex-grow: 1;\n",
              "}\n",
              "\n",
              "#sk-container-id-1 div.sk-parallel {\n",
              "  display: flex;\n",
              "  align-items: stretch;\n",
              "  justify-content: center;\n",
              "  background-color: var(--sklearn-color-background);\n",
              "  position: relative;\n",
              "}\n",
              "\n",
              "#sk-container-id-1 div.sk-parallel-item {\n",
              "  display: flex;\n",
              "  flex-direction: column;\n",
              "}\n",
              "\n",
              "#sk-container-id-1 div.sk-parallel-item:first-child::after {\n",
              "  align-self: flex-end;\n",
              "  width: 50%;\n",
              "}\n",
              "\n",
              "#sk-container-id-1 div.sk-parallel-item:last-child::after {\n",
              "  align-self: flex-start;\n",
              "  width: 50%;\n",
              "}\n",
              "\n",
              "#sk-container-id-1 div.sk-parallel-item:only-child::after {\n",
              "  width: 0;\n",
              "}\n",
              "\n",
              "/* Serial-specific style estimator block */\n",
              "\n",
              "#sk-container-id-1 div.sk-serial {\n",
              "  display: flex;\n",
              "  flex-direction: column;\n",
              "  align-items: center;\n",
              "  background-color: var(--sklearn-color-background);\n",
              "  padding-right: 1em;\n",
              "  padding-left: 1em;\n",
              "}\n",
              "\n",
              "\n",
              "/* Toggleable style: style used for estimator/Pipeline/ColumnTransformer box that is\n",
              "clickable and can be expanded/collapsed.\n",
              "- Pipeline and ColumnTransformer use this feature and define the default style\n",
              "- Estimators will overwrite some part of the style using the `sk-estimator` class\n",
              "*/\n",
              "\n",
              "/* Pipeline and ColumnTransformer style (default) */\n",
              "\n",
              "#sk-container-id-1 div.sk-toggleable {\n",
              "  /* Default theme specific background. It is overwritten whether we have a\n",
              "  specific estimator or a Pipeline/ColumnTransformer */\n",
              "  background-color: var(--sklearn-color-background);\n",
              "}\n",
              "\n",
              "/* Toggleable label */\n",
              "#sk-container-id-1 label.sk-toggleable__label {\n",
              "  cursor: pointer;\n",
              "  display: flex;\n",
              "  width: 100%;\n",
              "  margin-bottom: 0;\n",
              "  padding: 0.5em;\n",
              "  box-sizing: border-box;\n",
              "  text-align: center;\n",
              "  align-items: start;\n",
              "  justify-content: space-between;\n",
              "  gap: 0.5em;\n",
              "}\n",
              "\n",
              "#sk-container-id-1 label.sk-toggleable__label .caption {\n",
              "  font-size: 0.6rem;\n",
              "  font-weight: lighter;\n",
              "  color: var(--sklearn-color-text-muted);\n",
              "}\n",
              "\n",
              "#sk-container-id-1 label.sk-toggleable__label-arrow:before {\n",
              "  /* Arrow on the left of the label */\n",
              "  content: \"▸\";\n",
              "  float: left;\n",
              "  margin-right: 0.25em;\n",
              "  color: var(--sklearn-color-icon);\n",
              "}\n",
              "\n",
              "#sk-container-id-1 label.sk-toggleable__label-arrow:hover:before {\n",
              "  color: var(--sklearn-color-text);\n",
              "}\n",
              "\n",
              "/* Toggleable content - dropdown */\n",
              "\n",
              "#sk-container-id-1 div.sk-toggleable__content {\n",
              "  max-height: 0;\n",
              "  max-width: 0;\n",
              "  overflow: hidden;\n",
              "  text-align: left;\n",
              "  /* unfitted */\n",
              "  background-color: var(--sklearn-color-unfitted-level-0);\n",
              "}\n",
              "\n",
              "#sk-container-id-1 div.sk-toggleable__content.fitted {\n",
              "  /* fitted */\n",
              "  background-color: var(--sklearn-color-fitted-level-0);\n",
              "}\n",
              "\n",
              "#sk-container-id-1 div.sk-toggleable__content pre {\n",
              "  margin: 0.2em;\n",
              "  border-radius: 0.25em;\n",
              "  color: var(--sklearn-color-text);\n",
              "  /* unfitted */\n",
              "  background-color: var(--sklearn-color-unfitted-level-0);\n",
              "}\n",
              "\n",
              "#sk-container-id-1 div.sk-toggleable__content.fitted pre {\n",
              "  /* unfitted */\n",
              "  background-color: var(--sklearn-color-fitted-level-0);\n",
              "}\n",
              "\n",
              "#sk-container-id-1 input.sk-toggleable__control:checked~div.sk-toggleable__content {\n",
              "  /* Expand drop-down */\n",
              "  max-height: 200px;\n",
              "  max-width: 100%;\n",
              "  overflow: auto;\n",
              "}\n",
              "\n",
              "#sk-container-id-1 input.sk-toggleable__control:checked~label.sk-toggleable__label-arrow:before {\n",
              "  content: \"▾\";\n",
              "}\n",
              "\n",
              "/* Pipeline/ColumnTransformer-specific style */\n",
              "\n",
              "#sk-container-id-1 div.sk-label input.sk-toggleable__control:checked~label.sk-toggleable__label {\n",
              "  color: var(--sklearn-color-text);\n",
              "  background-color: var(--sklearn-color-unfitted-level-2);\n",
              "}\n",
              "\n",
              "#sk-container-id-1 div.sk-label.fitted input.sk-toggleable__control:checked~label.sk-toggleable__label {\n",
              "  background-color: var(--sklearn-color-fitted-level-2);\n",
              "}\n",
              "\n",
              "/* Estimator-specific style */\n",
              "\n",
              "/* Colorize estimator box */\n",
              "#sk-container-id-1 div.sk-estimator input.sk-toggleable__control:checked~label.sk-toggleable__label {\n",
              "  /* unfitted */\n",
              "  background-color: var(--sklearn-color-unfitted-level-2);\n",
              "}\n",
              "\n",
              "#sk-container-id-1 div.sk-estimator.fitted input.sk-toggleable__control:checked~label.sk-toggleable__label {\n",
              "  /* fitted */\n",
              "  background-color: var(--sklearn-color-fitted-level-2);\n",
              "}\n",
              "\n",
              "#sk-container-id-1 div.sk-label label.sk-toggleable__label,\n",
              "#sk-container-id-1 div.sk-label label {\n",
              "  /* The background is the default theme color */\n",
              "  color: var(--sklearn-color-text-on-default-background);\n",
              "}\n",
              "\n",
              "/* On hover, darken the color of the background */\n",
              "#sk-container-id-1 div.sk-label:hover label.sk-toggleable__label {\n",
              "  color: var(--sklearn-color-text);\n",
              "  background-color: var(--sklearn-color-unfitted-level-2);\n",
              "}\n",
              "\n",
              "/* Label box, darken color on hover, fitted */\n",
              "#sk-container-id-1 div.sk-label.fitted:hover label.sk-toggleable__label.fitted {\n",
              "  color: var(--sklearn-color-text);\n",
              "  background-color: var(--sklearn-color-fitted-level-2);\n",
              "}\n",
              "\n",
              "/* Estimator label */\n",
              "\n",
              "#sk-container-id-1 div.sk-label label {\n",
              "  font-family: monospace;\n",
              "  font-weight: bold;\n",
              "  display: inline-block;\n",
              "  line-height: 1.2em;\n",
              "}\n",
              "\n",
              "#sk-container-id-1 div.sk-label-container {\n",
              "  text-align: center;\n",
              "}\n",
              "\n",
              "/* Estimator-specific */\n",
              "#sk-container-id-1 div.sk-estimator {\n",
              "  font-family: monospace;\n",
              "  border: 1px dotted var(--sklearn-color-border-box);\n",
              "  border-radius: 0.25em;\n",
              "  box-sizing: border-box;\n",
              "  margin-bottom: 0.5em;\n",
              "  /* unfitted */\n",
              "  background-color: var(--sklearn-color-unfitted-level-0);\n",
              "}\n",
              "\n",
              "#sk-container-id-1 div.sk-estimator.fitted {\n",
              "  /* fitted */\n",
              "  background-color: var(--sklearn-color-fitted-level-0);\n",
              "}\n",
              "\n",
              "/* on hover */\n",
              "#sk-container-id-1 div.sk-estimator:hover {\n",
              "  /* unfitted */\n",
              "  background-color: var(--sklearn-color-unfitted-level-2);\n",
              "}\n",
              "\n",
              "#sk-container-id-1 div.sk-estimator.fitted:hover {\n",
              "  /* fitted */\n",
              "  background-color: var(--sklearn-color-fitted-level-2);\n",
              "}\n",
              "\n",
              "/* Specification for estimator info (e.g. \"i\" and \"?\") */\n",
              "\n",
              "/* Common style for \"i\" and \"?\" */\n",
              "\n",
              ".sk-estimator-doc-link,\n",
              "a:link.sk-estimator-doc-link,\n",
              "a:visited.sk-estimator-doc-link {\n",
              "  float: right;\n",
              "  font-size: smaller;\n",
              "  line-height: 1em;\n",
              "  font-family: monospace;\n",
              "  background-color: var(--sklearn-color-background);\n",
              "  border-radius: 1em;\n",
              "  height: 1em;\n",
              "  width: 1em;\n",
              "  text-decoration: none !important;\n",
              "  margin-left: 0.5em;\n",
              "  text-align: center;\n",
              "  /* unfitted */\n",
              "  border: var(--sklearn-color-unfitted-level-1) 1pt solid;\n",
              "  color: var(--sklearn-color-unfitted-level-1);\n",
              "}\n",
              "\n",
              ".sk-estimator-doc-link.fitted,\n",
              "a:link.sk-estimator-doc-link.fitted,\n",
              "a:visited.sk-estimator-doc-link.fitted {\n",
              "  /* fitted */\n",
              "  border: var(--sklearn-color-fitted-level-1) 1pt solid;\n",
              "  color: var(--sklearn-color-fitted-level-1);\n",
              "}\n",
              "\n",
              "/* On hover */\n",
              "div.sk-estimator:hover .sk-estimator-doc-link:hover,\n",
              ".sk-estimator-doc-link:hover,\n",
              "div.sk-label-container:hover .sk-estimator-doc-link:hover,\n",
              ".sk-estimator-doc-link:hover {\n",
              "  /* unfitted */\n",
              "  background-color: var(--sklearn-color-unfitted-level-3);\n",
              "  color: var(--sklearn-color-background);\n",
              "  text-decoration: none;\n",
              "}\n",
              "\n",
              "div.sk-estimator.fitted:hover .sk-estimator-doc-link.fitted:hover,\n",
              ".sk-estimator-doc-link.fitted:hover,\n",
              "div.sk-label-container:hover .sk-estimator-doc-link.fitted:hover,\n",
              ".sk-estimator-doc-link.fitted:hover {\n",
              "  /* fitted */\n",
              "  background-color: var(--sklearn-color-fitted-level-3);\n",
              "  color: var(--sklearn-color-background);\n",
              "  text-decoration: none;\n",
              "}\n",
              "\n",
              "/* Span, style for the box shown on hovering the info icon */\n",
              ".sk-estimator-doc-link span {\n",
              "  display: none;\n",
              "  z-index: 9999;\n",
              "  position: relative;\n",
              "  font-weight: normal;\n",
              "  right: .2ex;\n",
              "  padding: .5ex;\n",
              "  margin: .5ex;\n",
              "  width: min-content;\n",
              "  min-width: 20ex;\n",
              "  max-width: 50ex;\n",
              "  color: var(--sklearn-color-text);\n",
              "  box-shadow: 2pt 2pt 4pt #999;\n",
              "  /* unfitted */\n",
              "  background: var(--sklearn-color-unfitted-level-0);\n",
              "  border: .5pt solid var(--sklearn-color-unfitted-level-3);\n",
              "}\n",
              "\n",
              ".sk-estimator-doc-link.fitted span {\n",
              "  /* fitted */\n",
              "  background: var(--sklearn-color-fitted-level-0);\n",
              "  border: var(--sklearn-color-fitted-level-3);\n",
              "}\n",
              "\n",
              ".sk-estimator-doc-link:hover span {\n",
              "  display: block;\n",
              "}\n",
              "\n",
              "/* \"?\"-specific style due to the `<a>` HTML tag */\n",
              "\n",
              "#sk-container-id-1 a.estimator_doc_link {\n",
              "  float: right;\n",
              "  font-size: 1rem;\n",
              "  line-height: 1em;\n",
              "  font-family: monospace;\n",
              "  background-color: var(--sklearn-color-background);\n",
              "  border-radius: 1rem;\n",
              "  height: 1rem;\n",
              "  width: 1rem;\n",
              "  text-decoration: none;\n",
              "  /* unfitted */\n",
              "  color: var(--sklearn-color-unfitted-level-1);\n",
              "  border: var(--sklearn-color-unfitted-level-1) 1pt solid;\n",
              "}\n",
              "\n",
              "#sk-container-id-1 a.estimator_doc_link.fitted {\n",
              "  /* fitted */\n",
              "  border: var(--sklearn-color-fitted-level-1) 1pt solid;\n",
              "  color: var(--sklearn-color-fitted-level-1);\n",
              "}\n",
              "\n",
              "/* On hover */\n",
              "#sk-container-id-1 a.estimator_doc_link:hover {\n",
              "  /* unfitted */\n",
              "  background-color: var(--sklearn-color-unfitted-level-3);\n",
              "  color: var(--sklearn-color-background);\n",
              "  text-decoration: none;\n",
              "}\n",
              "\n",
              "#sk-container-id-1 a.estimator_doc_link.fitted:hover {\n",
              "  /* fitted */\n",
              "  background-color: var(--sklearn-color-fitted-level-3);\n",
              "}\n",
              "</style><div id=\"sk-container-id-1\" class=\"sk-top-container\"><div class=\"sk-text-repr-fallback\"><pre>RandomForestClassifier()</pre><b>In a Jupyter environment, please rerun this cell to show the HTML representation or trust the notebook. <br />On GitHub, the HTML representation is unable to render, please try loading this page with nbviewer.org.</b></div><div class=\"sk-container\" hidden><div class=\"sk-item\"><div class=\"sk-estimator fitted sk-toggleable\"><input class=\"sk-toggleable__control sk-hidden--visually\" id=\"sk-estimator-id-1\" type=\"checkbox\" checked><label for=\"sk-estimator-id-1\" class=\"sk-toggleable__label fitted sk-toggleable__label-arrow\"><div><div>RandomForestClassifier</div></div><div><a class=\"sk-estimator-doc-link fitted\" rel=\"noreferrer\" target=\"_blank\" href=\"https://scikit-learn.org/1.6/modules/generated/sklearn.ensemble.RandomForestClassifier.html\">?<span>Documentation for RandomForestClassifier</span></a><span class=\"sk-estimator-doc-link fitted\">i<span>Fitted</span></span></div></label><div class=\"sk-toggleable__content fitted\"><pre>RandomForestClassifier()</pre></div> </div></div></div></div>"
            ]
          },
          "metadata": {},
          "execution_count": 21
        }
      ]
    },
    {
      "cell_type": "markdown",
      "source": [
        "### Predict"
      ],
      "metadata": {
        "id": "KzK_FM3JnpPO"
      }
    },
    {
      "cell_type": "code",
      "source": [
        "y_pred = model.predict(X_test)"
      ],
      "metadata": {
        "id": "jxyMB4Jyn2cN"
      },
      "execution_count": 22,
      "outputs": []
    },
    {
      "cell_type": "markdown",
      "source": [
        "### Evaluate"
      ],
      "metadata": {
        "id": "GSn84hSLnrkp"
      }
    },
    {
      "cell_type": "code",
      "source": [
        "print(classification_report(y_test, y_pred))"
      ],
      "metadata": {
        "colab": {
          "base_uri": "https://localhost:8080/"
        },
        "id": "qtx0QLUWn4gU",
        "outputId": "9e10c9d8-e4a4-4619-9ae5-37ce197adb7e"
      },
      "execution_count": 23,
      "outputs": [
        {
          "output_type": "stream",
          "name": "stdout",
          "text": [
            "              precision    recall  f1-score   support\n",
            "\n",
            "           0       0.76      1.00      0.86     25070\n",
            "           1       0.63      0.01      0.02      8161\n",
            "\n",
            "    accuracy                           0.76     33231\n",
            "   macro avg       0.69      0.50      0.44     33231\n",
            "weighted avg       0.72      0.76      0.65     33231\n",
            "\n"
          ]
        }
      ]
    },
    {
      "cell_type": "markdown",
      "source": [
        "# **Plot How Many Users Repeated Songs**"
      ],
      "metadata": {
        "id": "8wgC-4xUqXuC"
      }
    },
    {
      "cell_type": "code",
      "source": [
        "import matplotlib.pyplot as plt\n",
        "import seaborn as sns\n",
        "\n",
        "# Count of repeated vs non-repeated songs\n",
        "repeat_counts = df['repeated_within_month'].value_counts()\n",
        "\n",
        "# Plotting\n",
        "plt.figure(figsize=(6, 4))\n",
        "sns.barplot(x=repeat_counts.index, y=repeat_counts.values, palette='viridis')\n",
        "plt.title('Count of Repeated vs Non-Repeated Songs')\n",
        "plt.xlabel('Repeated Within 30 Days (1 = Yes, 0 = No)')\n",
        "plt.ylabel('Number of Songs')\n",
        "plt.xticks([0, 1], ['Non-Repeated (0)', 'Repeated (1)'], rotation=0)\n",
        "plt.show()\n"
      ],
      "metadata": {
        "colab": {
          "base_uri": "https://localhost:8080/",
          "height": 517
        },
        "id": "YXu9QQAWoYtL",
        "outputId": "d7d79cc4-96af-4dbf-b519-aa900b714a89"
      },
      "execution_count": 34,
      "outputs": [
        {
          "output_type": "stream",
          "name": "stderr",
          "text": [
            "<ipython-input-34-98aaab753bf3>:9: FutureWarning: \n",
            "\n",
            "Passing `palette` without assigning `hue` is deprecated and will be removed in v0.14.0. Assign the `x` variable to `hue` and set `legend=False` for the same effect.\n",
            "\n",
            "  sns.barplot(x=repeat_counts.index, y=repeat_counts.values, palette='viridis')\n"
          ]
        },
        {
          "output_type": "display_data",
          "data": {
            "text/plain": [
              "<Figure size 600x400 with 1 Axes>"
            ],
            "image/png": "[encoded data removed]"
          },
          "metadata": {}
        }
      ]
    },
    {
      "cell_type": "markdown",
      "source": [
        "# **Plot Number of Users Repeating Songs**"
      ],
      "metadata": {
        "id": "jN9g51InqS18"
      }
    },
    {
      "cell_type": "code",
      "source": [
        "# Count unique users who repeated songs (1) vs non-repeated (0)\n",
        "user_repeat_counts = df.groupby('Username')['repeated_within_month'].max().value_counts()\n",
        "\n",
        "# Plotting with a new color palette\n",
        "plt.figure(figsize=(6, 4))\n",
        "sns.barplot(x=user_repeat_counts.index, y=user_repeat_counts.values, palette='Blues')\n",
        "plt.title('Number of Users Who Repeated Songs')\n",
        "plt.xlabel('Repeated Within 30 Days (1 = Yes, 0 = No)')\n",
        "plt.ylabel('Number of Users')\n",
        "plt.xticks([0, 1], ['Non-Repeated Users (0)', 'Repeated Users (1)'], rotation=0)\n",
        "plt.show()\n"
      ],
      "metadata": {
        "colab": {
          "base_uri": "https://localhost:8080/",
          "height": 517
        },
        "id": "YmLdl3eooZPL",
        "outputId": "9eafb58f-c3c5-4665-bf51-40abfbd3b0a5"
      },
      "execution_count": 38,
      "outputs": [
        {
          "output_type": "stream",
          "name": "stderr",
          "text": [
            "<ipython-input-38-2a8b3b076341>:6: FutureWarning: \n",
            "\n",
            "Passing `palette` without assigning `hue` is deprecated and will be removed in v0.14.0. Assign the `x` variable to `hue` and set `legend=False` for the same effect.\n",
            "\n",
            "  sns.barplot(x=user_repeat_counts.index, y=user_repeat_counts.values, palette='Blues')\n"
          ]
        },
        {
          "output_type": "display_data",
          "data": {
            "text/plain": [
              "<Figure size 600x400 with 1 Axes>"
            ],
            "image/png": "[encoded data removed]"
          },
          "metadata": {}
        }
      ]
    },
    {
      "cell_type": "markdown",
      "source": [
        "# **Plot Repeated Songs by Time of Day**"
      ],
      "metadata": {
        "id": "Onw3Aa6iqAKl"
      }
    },
    {
      "cell_type": "code",
      "source": [
        "# Plot repeated vs non-repeated songs by hour of day\n",
        "plt.figure(figsize=(10, 6))\n",
        "sns.countplot(data=df, x='hour', hue='repeated_within_month', palette='coolwarm')\n",
        "plt.title('Repeated vs Non-Repeated Songs by Hour of Day')\n",
        "plt.xlabel('Hour of Day')\n",
        "plt.ylabel('Count of Songs')\n",
        "plt.legend(title='Repeated (1) / Non-Repeated (0)', loc='upper right')\n",
        "plt.show()"
      ],
      "metadata": {
        "colab": {
          "base_uri": "https://localhost:8080/",
          "height": 549
        },
        "id": "lRTeKpvaodLF",
        "outputId": "85fc62dc-8e74-421c-e1b7-dded016e1ddf"
      },
      "execution_count": 39,
      "outputs": [
        {
          "output_type": "display_data",
          "data": {
            "text/plain": [
              "<Figure size 1000x600 with 1 Axes>"
            ],
            "image/png": "[encoded data removed]"
          },
          "metadata": {}
        }
      ]
    },
    {
      "cell_type": "markdown",
      "source": [
        "# **Plot Repeated Songs by Day of the Week**"
      ],
      "metadata": {
        "id": "z5VUZ9e7qHCT"
      }
    },
    {
      "cell_type": "code",
      "source": [
        "# Plot repeated vs non-repeated songs by day of week\n",
        "plt.figure(figsize=(10, 6))\n",
        "sns.countplot(data=df, x='day_of_week', hue='repeated_within_month', palette='coolwarm')\n",
        "plt.title('Repeated vs Non-Repeated Songs by Day of the Week')\n",
        "plt.xlabel('Day of the Week')\n",
        "plt.ylabel('Count of Songs')\n",
        "plt.legend(title='Repeated (1) / Non-Repeated (0)', loc='upper right')\n",
        "plt.xticks(ticks=range(7), labels=['Mon', 'Tue', 'Wed', 'Thu', 'Fri', 'Sat', 'Sun'])\n",
        "plt.show()"
      ],
      "metadata": {
        "colab": {
          "base_uri": "https://localhost:8080/",
          "height": 543
        },
        "id": "3k_rDzIkqEOn",
        "outputId": "9722b32e-a87c-4ae2-a9c6-37a33bd8458a"
      },
      "execution_count": 40,
      "outputs": [
        {
          "output_type": "display_data",
          "data": {
            "text/plain": [
              "<Figure size 1000x600 with 1 Axes>"
            ],
            "image/png": "[encoded data removed]"
          },
          "metadata": {}
        }
      ]
    },
    {
      "cell_type": "code",
      "source": [],
      "metadata": {
        "id": "Nka-H9BJqLUb"
      },
      "execution_count": null,
      "outputs": []
    }
  ]
}